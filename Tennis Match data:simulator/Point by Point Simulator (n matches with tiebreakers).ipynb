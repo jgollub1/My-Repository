{
 "cells": [
  {
   "cell_type": "code",
   "execution_count": 15,
   "metadata": {
    "collapsed": false
   },
   "outputs": [],
   "source": [
    "# import dictionaries\n",
    "import numpy as np\n",
    "from itertools import cycle\n",
    "import matplotlib.pyplot as plt"
   ]
  },
  {
   "cell_type": "code",
   "execution_count": 16,
   "metadata": {
    "collapsed": true
   },
   "outputs": [],
   "source": [
    "# here we load in our dictionary of player's serve and return statistics, scraped from atpworldtour.com\n",
    "import cPickle as pickle\n",
    "with open('stats_dict.p', 'rb') as fp:\n",
    "    stats_dict = pickle.load(fp)"
   ]
  },
  {
   "cell_type": "code",
   "execution_count": 17,
   "metadata": {
    "collapsed": false
   },
   "outputs": [],
   "source": [
    "# function to convert dict of two-element vector scores into proper overall score; does not check for valid scores\n",
    "def get_score(points):\n",
    "    # unless we are in a tiebreaker, code converts point score from number format to tennis' 15-30-40-deuce format\n",
    "    if points['game'] != [6,6]:\n",
    "        point_score = [int(p)*15 for p in points['point']]\n",
    "        for i in range(0,len(point_score)):\n",
    "            if point_score[i] == 45:\n",
    "                point_score[i] = 40\n",
    "        if max(point_score) > 40:\n",
    "            if point_score[0] > point_score[1]:\n",
    "                point_score = ['AD','40']\n",
    "            if point_score[0] < point_score[1]:\n",
    "                point_score = ['40','AD']\n",
    "            if point_score[0] == point_score[1]:\n",
    "                point_score = ['40','40']\n",
    "        return str(points['set'][0]) + '-' + str(points['set'][1]) + ', ' + str(points['game'][0]) +\\\n",
    "        '-' + str(points['game'][1]) + ', ' + str(point_score[0]) + '-' + str(point_score[1])\n",
    "    else:\n",
    "        return str(points['set'][0]) + '-' + str(points['set'][1]) + ', ' + str(points['game'][0]) +\\\n",
    "        '-' + str(points['game'][1]) + ', ' + str(points['point'][0]) + '-' + str(points['point'][1])\n"
   ]
  },
  {
   "cell_type": "code",
   "execution_count": 18,
   "metadata": {
    "collapsed": false
   },
   "outputs": [
    {
     "name": "stderr",
     "output_type": "stream",
     "text": [
      "<ipython-input-18-fc2e0905781e>:30: SyntaxWarning: name 'server' is assigned to before global declaration\n",
      "  global server\n",
      "<ipython-input-18-fc2e0905781e>:31: SyntaxWarning: name 'serving' is used prior to global declaration\n",
      "  global serving\n",
      "<ipython-input-18-fc2e0905781e>:42: SyntaxWarning: name 'server' is assigned to before global declaration\n",
      "  global server\n",
      "<ipython-input-18-fc2e0905781e>:43: SyntaxWarning: name 'serving' is used prior to global declaration\n",
      "  global serving\n",
      "<ipython-input-18-fc2e0905781e>:48: SyntaxWarning: name 'server' is assigned to before global declaration\n",
      "  global server\n",
      "<ipython-input-18-fc2e0905781e>:49: SyntaxWarning: name 'serving' is used prior to global declaration\n",
      "  global serving\n"
     ]
    }
   ],
   "source": [
    "# check to see if a game should be over in tennis\n",
    "# I will first write this treating the tiebreaker as a typical fifteenth game with a single server\n",
    "# then I will later update it to reflect an actual tiebreaker\n",
    "score = {}\n",
    "score['set'] = [1,0]\n",
    "score['game'] = [6,6]\n",
    "score['point'] = [7,9]\n",
    "\n",
    "def check_score(points):\n",
    "    # first we check the points score    \n",
    "    # if we are not in a tiebreaker, proceed with regular scoring\n",
    "    if points['game'] != [6,6]:\n",
    "        if max(points['point']) < 4:\n",
    "            return points\n",
    "        if max(points['point']) >= 4:\n",
    "            if (max(points['point'])-min(points['point'])) < 2:\n",
    "                return points\n",
    "            else:\n",
    "                # if the difference in points is 2, we reset the point score and update the game score\n",
    "                if points['point'][0] > points['point'][1]:\n",
    "                    points['game'][0] += 1\n",
    "                    # I switch the server after any time the game score is updated\n",
    "                    index = server_I.next()\n",
    "                    global server\n",
    "                    global serving\n",
    "                    server = serving[index]\n",
    "                if points['point'][1] > points['point'][0]:\n",
    "                    points['game'][1] += 1\n",
    "                    index = server_I.next()\n",
    "                    global server\n",
    "                    global serving\n",
    "                    server = serving[index]\n",
    "                points['point'] = [0,0]\n",
    "    #if we are in a tiebreaker, switch serve every two points and end once a player gets to seven and wins by two\n",
    "    elif points['game'] == [6,6]:\n",
    "        # now check if tiebreak should be over\n",
    "        if max(points['point']) >= 7 and ((max(points['point'])-min(points['point'])) >= 2):\n",
    "            if points['point'][0] > points['point'][1]:\n",
    "                points['game'][0] += 1\n",
    "                # I switch the server after any time the game score is updated\n",
    "                index = server_I.next()\n",
    "                global server\n",
    "                global serving\n",
    "                server = serving[index]\n",
    "            if points['point'][1] > points['point'][0]:\n",
    "                points['game'][1] += 1\n",
    "                index = server_I.next()\n",
    "                global server\n",
    "                global serving\n",
    "                server = serving[index]\n",
    "            points['point'] = [0,0]\n",
    "        # otherwise, tiebreak continues\n",
    "        else:\n",
    "            return points\n",
    "            \n",
    "    # now we check the game score\n",
    "    if max(points['game']) < 6:\n",
    "        return points\n",
    "    if points['game'] == [6,6] and points['point'] == [0,0]:\n",
    "        return points\n",
    "    # my next logical statement covers all cases where a player has reached 6 or more games except 6-5\n",
    "    if (max(points['game']) - min(points['game'])) >= 2 or max(points['game']) == 7:\n",
    "        if points['game'][0] > points['game'][1]:\n",
    "            points['set'][0] += 1\n",
    "        if points['game'][1] > points['game'][0]:\n",
    "            points['set'][1] += 1\n",
    "        points['game'] = [0,0]\n",
    "\n",
    "    # now we check the set score\n",
    "    if max(points['set']) < 2:\n",
    "        return points\n",
    "    else:\n",
    "        #print \"Game, Set, Match.\"\n",
    "        return points\n"
   ]
  },
  {
   "cell_type": "code",
   "execution_count": 19,
   "metadata": {
    "collapsed": false
   },
   "outputs": [],
   "source": [
    "def point(first_serve_perc,first_serve_win,second_serve_win,score):\n",
    "    rando = np.random.uniform()\n",
    "    if rando < first_serve_perc:\n",
    "        point = np.random.binomial(1,first_serve_win)\n",
    "    if rando > first_serve_perc:\n",
    "        point = np.random.binomial(1,second_serve_win)\n",
    "    #point_chex.append(point)\n",
    "    # depending on who is serving, I must assign the won and lost points accordingly\n",
    "    if (point == 1 and server == 'p1') or (point == 0 and server == 'p2'):\n",
    "        score[0] += 1\n",
    "    else:\n",
    "        score[1] += 1\n",
    "    return score"
   ]
  },
  {
   "cell_type": "code",
   "execution_count": 20,
   "metadata": {
    "collapsed": false
   },
   "outputs": [
    {
     "name": "stderr",
     "output_type": "stream",
     "text": [
      "<ipython-input-20-9ddc746b598b>:38: SyntaxWarning: name 'server' is assigned to before global declaration\n",
      "  global server\n",
      "<ipython-input-20-9ddc746b598b>:39: SyntaxWarning: name 'serving' is assigned to before global declaration\n",
      "  global serving\n"
     ]
    }
   ],
   "source": [
    "# let's get started\n",
    "\n",
    "def simulate(mast_dict,p1,p2):\n",
    "    outcomes = []\n",
    "    \n",
    "    # set up indicator variable to designate who is serving\n",
    "    global server_I\n",
    "    server_I = cycle(range(2))\n",
    "    # set up dict so I can index my iterator to find the server in a given game\n",
    "    global serving\n",
    "    serving = ['p1','p2']\n",
    "    global server\n",
    "    \n",
    "    # flip a coin to get this match started\n",
    "    if np.random.uniform(0,1) > .5:\n",
    "        #print \"%s to serve\" % (p1)\n",
    "        index = server_I.next()\n",
    "        server = serving[index]\n",
    "    else:\n",
    "        #print \"%s to serve\" % (p2)\n",
    "        server_I.next()\n",
    "        index = server_I.next()\n",
    "        server = serving[index]\n",
    "\n",
    "    # initialize empty scoreboards\n",
    "    score = {}\n",
    "    score['set'] = [0,0]\n",
    "    score['game'] = [0,0]\n",
    "    score['point'] = [0,0]\n",
    "\n",
    "    # now we get the party started...\n",
    "    while max(check_score(score)['set']) < 2:\n",
    "        score['point'] = point(mast_dict[server]['1st_serve%'],mast_dict[server]['1st_serve_win'],mast_dict[server]['2nd_serve_win'],score['point'])\n",
    "        score = check_score(score)\n",
    "        # checker\n",
    "        if score['game'] == [6,6] and sum(score['point'])%2 == 1:\n",
    "            index = server_I.next()\n",
    "            global server\n",
    "            global serving\n",
    "            server = serving[index]\n",
    "            \n",
    "    if max(check_score(score)['set']) == 2:\n",
    "        global names\n",
    "        if check_score(score)['set'][0] == 2:\n",
    "            wins[0] += 1\n",
    "            #print names['p1'] + ' wins.'\n",
    "        else:\n",
    "            wins[1] += 1\n",
    "            #print names['p2'] + ' wins'"
   ]
  },
  {
   "cell_type": "code",
   "execution_count": 21,
   "metadata": {
    "collapsed": false
   },
   "outputs": [
    {
     "name": "stdout",
     "output_type": "stream",
     "text": [
      "rafael-nadal: 646 wins\n",
      "roger-federer: 354 wins\n"
     ]
    },
    {
     "data": {
      "text/plain": [
       "0.646"
      ]
     },
     "execution_count": 21,
     "metadata": {},
     "output_type": "execute_result"
    }
   ],
   "source": [
    "def n_match_simulator(player_1,player_2,year,surface,n):\n",
    "    # names dict for future reference\n",
    "    global names \n",
    "    names = {'p1': player_1,'p2': player_2}\n",
    "    global wins\n",
    "    wins = [0,0]\n",
    "    \n",
    "    # split our dictionary into five dataframes for each relevant player statistic\n",
    "    first_perc = stats_dict['1st-serve'][surface][year]\n",
    "    first_serve = stats_dict['1st-serve-points-won'][surface][year]\n",
    "    second_serve = stats_dict['2nd-serve-points-won'][surface][year]\n",
    "    first_return = stats_dict['1st-serve-return-points-won'][surface][year]\n",
    "    second_return = stats_dict['2nd-serve-return-points-won'][surface][year]\n",
    "    \n",
    "    # extract serve and return percentages for player 1 and player 2 from the database\n",
    "    player1_info = {'1st_serve%':first_perc.loc[first_perc['player'] == player_1]['1st-serve'].values[0],\\\n",
    "                '1st_serve_win':first_serve.loc[first_serve['player'] == player_1]['1st-serve-points-won'].values[0],\\\n",
    "                '2nd_serve_win':second_serve.loc[second_serve['player'] == player_1]['2nd-serve-points-won'].values[0],\\\n",
    "                '1st_return_win':first_return.loc[first_return['player'] == player_1]['1st-serve-return-points-won'].values[0],\\\n",
    "                '2nd_return_win':second_return.loc[second_return['player'] == player_1]['2nd-serve-return-points-won'].values[0]}\n",
    "\n",
    "    player2_info = {'1st_serve%':first_perc.loc[first_perc['player'] == player_2]['1st-serve'].values[0],\\\n",
    "                '1st_serve_win':first_serve.loc[first_serve['player'] == player_2]['1st-serve-points-won'].values[0],\\\n",
    "                '2nd_serve_win':second_serve.loc[second_serve['player'] == player_2]['2nd-serve-points-won'].values[0],\\\n",
    "                '1st_return_win':first_return.loc[first_return['player'] == player_2]['1st-serve-return-points-won'].values[0],\\\n",
    "                '2nd_return_win':second_return.loc[second_return['player'] == player_2]['2nd-serve-return-points-won'].values[0]}\n",
    "\n",
    "\n",
    "    player1_dict = {}\n",
    "    player2_dict = {}\n",
    "\n",
    "\n",
    "    # normalize percentages by dividing each by sum of players' two stats (eg 1st serve win pct and 1st serve return pct)\n",
    "    # the new serve winning percentages reflect a combination of the server and returner's relative effectiveness\n",
    "    player1_dict['1st_serve_win'] = player1_info['1st_serve_win']/float(player1_info['1st_serve_win']+player2_info['1st_return_win'])\n",
    "    player2_dict['1st_serve_win'] = player2_info['1st_serve_win']/float(player2_info['1st_serve_win']+player1_info['1st_return_win'])\n",
    "    player1_dict['2nd_serve_win'] = player1_info['2nd_serve_win']/float(player1_info['2nd_serve_win']+player2_info['2nd_return_win'])\n",
    "    player2_dict['2nd_serve_win'] = player2_info['2nd_serve_win']/float(player2_info['2nd_serve_win']+player1_info['2nd_return_win'])\n",
    "    player1_dict['1st_serve%'] = player1_info['1st_serve%']\n",
    "    player2_dict['1st_serve%'] = player2_info['1st_serve%']\n",
    "\n",
    "\n",
    "    mast_dict = {}\n",
    "    mast_dict['p1'] = player1_dict\n",
    "    mast_dict['p2'] = player2_dict\n",
    "    \n",
    "    \n",
    "    \n",
    "    for i in range(0,n):\n",
    "        simulate(mast_dict,player_1,player_2)\n",
    "    print player_1 + \": \" + str(wins[0]) + \" wins\"\n",
    "    print player_2 + \": \" + str(wins[1]) + \" wins\"\n",
    "    return float(wins[0])/1000\n",
    "#n_match_simulator('pete-sampras','andre-agassi',2000,'grass',1000)\n",
    "\n",
    "n_match_simulator('rafael-nadal','roger-federer',2008,'clay',1000)"
   ]
  },
  {
   "cell_type": "code",
   "execution_count": 33,
   "metadata": {
    "collapsed": false
   },
   "outputs": [],
   "source": [
    "x = .647"
   ]
  },
  {
   "cell_type": "code",
   "execution_count": 34,
   "metadata": {
    "collapsed": false
   },
   "outputs": [
    {
     "data": {
      "text/plain": [
       "(array([ 1.,  0.,  0.,  0.,  0.,  0.,  0.,  0.,  0.,  1.]),\n",
       " array([ 353. ,  382.4,  411.8,  441.2,  470.6,  500. ,  529.4,  558.8,\n",
       "         588.2,  617.6,  647. ]),\n",
       " <a list of 10 Patch objects>)"
      ]
     },
     "execution_count": 34,
     "metadata": {},
     "output_type": "execute_result"
    }
   ],
   "source": [
    "plt.hist(wins)"
   ]
  },
  {
   "cell_type": "code",
   "execution_count": 25,
   "metadata": {
    "collapsed": false
   },
   "outputs": [
    {
     "name": "stdout",
     "output_type": "stream",
     "text": [
      "novak-djokovic: 619 wins\n",
      "kei-nishikori: 381 wins\n",
      "roger-federer: 675 wins\n",
      "tomas-berdych: 325 wins\n",
      "andy-murray: 565 wins\n",
      "david-ferrer: 435 wins\n",
      "rafael-nadal: 623 wins\n",
      "stan-wawrinka: 377 wins\n",
      "kei-nishikori: 463 wins\n",
      "tomas-berdych: 537 wins\n",
      "roger-federer: 602 wins\n",
      "novak-djokovic: 398 wins\n",
      "stan-wawrinka: 377 wins\n",
      "david-ferrer: 623 wins\n",
      "rafael-nadal: 452 wins\n",
      "andy-murray: 548 wins\n",
      "novak-djokovic: 588 wins\n",
      "tomas-berdych: 412 wins\n",
      "roger-federer: 717 wins\n",
      "kei-nishikori: 283 wins\n",
      "stan-wawrinka: 313 wins\n",
      "andy-murray: 687 wins\n",
      "rafael-nadal: 486 wins\n",
      "david-ferrer: 514 wins\n",
      "novak-djokovic: 616 wins\n",
      "rafael-nadal: 384 wins\n",
      "roger-federer: 757 wins\n",
      "stan-wawrinka: 243 wins\n",
      "novak-djokovic: 413 wins\n",
      "roger-federer: 587 wins\n"
     ]
    },
    {
     "data": {
      "text/plain": [
       "\"    \\nm1 = n_match_simulator('novak-djokovic','kei-nishikori',2015,'hard',1000)\\nm2 = n_match_simulator('roger-federer','tomas-berdych',2015,'hard',1000)\\n\\nm3 = n_match_simulator('andy-murray','david-ferrer',2015,'hard',1000)\\nm4 = n_match_simulator('rafael-nadal','stan-wawrinka',2015,'hard',1000)\\n\\nm5 = n_match_simulator('kei-nishikori','tomas-berdych',2015,'hard',1000)\\nm6 = n_match_simulator('roger-federer','novak-djokovic',2015,'hard',1000)\\n\\nm7 = n_match_simulator('stan-wawrinka','david-ferrer',2015,'hard',1000)\\nm8 = n_match_simulator('rafael-nadal','andy-murray',2015,'hard',1000)\\n\\nm9 = n_match_simulator('novak-djokovic','tomas-berdych',2015,'hard',1000)\\nm10 = n_match_simulator('roger-federer','kei-nishikori',2015,'hard',1000)\\n\\nm11 = n_match_simulator('stan-wawrinka','andy-murray',2015,'hard',1000)\\nm12 = n_match_simulator('rafael-nadal','david-ferrer',2015,'hard',1000)\\n\\n# semifinal and final results, winner entered as player one\\n\\nm13 = n_match_simulator('novak-djokovic','rafael-nadal',2015,'hard',1000)\\nm14 = n_match_simulator('roger-federer','stan-wawrinka',2015,'hard',1000)\\n\\nm15 = n_match_simulator('novak-djokovic','roger-federer',2015,'hard',1000)\\n\""
      ]
     },
     "execution_count": 25,
     "metadata": {},
     "output_type": "execute_result"
    }
   ],
   "source": [
    "# now we'll test these probabilities out at this year's season finale, the 2015 ATP World Tour Finals\n",
    "# Round Robin results, winner is entered as player one\n",
    "\n",
    "pairs = [['novak-djokovic','kei-nishikori'], ['roger-federer','tomas-berdych'],\\\n",
    "         ['andy-murray','david-ferrer'], ['rafael-nadal','stan-wawrinka'],\\\n",
    "         ['kei-nishikori','tomas-berdych'], ['roger-federer','novak-djokovic'],\\\n",
    "         ['stan-wawrinka','david-ferrer'], ['rafael-nadal','andy-murray'],\\\n",
    "         ['novak-djokovic','tomas-berdych'], ['roger-federer','kei-nishikori'],\\\n",
    "         ['stan-wawrinka','andy-murray'], ['rafael-nadal','david-ferrer'],\\\n",
    "         ['novak-djokovic','rafael-nadal'], ['roger-federer','stan-wawrinka'],\\\n",
    "         ['novak-djokovic','roger-federer']]\n",
    "\n",
    "m = []\n",
    "for i in xrange(len(pairs)):\n",
    "    m.append(n_match_simulator(pairs[i][0],pairs[i][1], 2015, 'hard',1000))\n",
    "m"
   ]
  },
  {
   "cell_type": "code",
   "execution_count": 29,
   "metadata": {
    "collapsed": false
   },
   "outputs": [],
   "source": [
    "a = []\n",
    "a.append(m[i] > .5  for i in range(0,len(m)))"
   ]
  },
  {
   "cell_type": "code",
   "execution_count": 30,
   "metadata": {
    "collapsed": false
   },
   "outputs": [
    {
     "data": {
      "text/plain": [
       "[<generator object <genexpr> at 0x108254640>]"
      ]
     },
     "execution_count": 30,
     "metadata": {},
     "output_type": "execute_result"
    }
   ],
   "source": [
    "a"
   ]
  },
  {
   "cell_type": "code",
   "execution_count": null,
   "metadata": {
    "collapsed": true
   },
   "outputs": [],
   "source": []
  }
 ],
 "metadata": {
  "kernelspec": {
   "display_name": "Python 2",
   "language": "python",
   "name": "python2"
  },
  "language_info": {
   "codemirror_mode": {
    "name": "ipython",
    "version": 2
   },
   "file_extension": ".py",
   "mimetype": "text/x-python",
   "name": "python",
   "nbconvert_exporter": "python",
   "pygments_lexer": "ipython2",
   "version": "2.7.10"
  }
 },
 "nbformat": 4,
 "nbformat_minor": 0
}
