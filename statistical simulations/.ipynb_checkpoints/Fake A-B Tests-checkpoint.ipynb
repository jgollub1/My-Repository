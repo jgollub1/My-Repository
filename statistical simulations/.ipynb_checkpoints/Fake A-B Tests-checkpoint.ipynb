{
 "cells": [
  {
   "cell_type": "markdown",
   "metadata": {},
   "source": [
    "I've been working at Yieldmo for 2 and a half weeks now. It's great and I'm really happy for this experience at a growing NY tech start-up. But, I found it odd that our A/B test team will report on tests to the design team before full progress is reached on the tests. Progress is a measure of how many trials we have gone before deeming a test worthy of conclusive results. If you continually check on a test before it hits 100% progress, all the while hoping for a statistically significant result to show off to clients and colleagues, you are destroying the whole point of A/B testing and significantly weakening the validity of your results by introducing a multiple comparisons problem. Anyway, it's not as though our team makes conclusions before hitting full progress. It just struck me as odd that we would even share how an ad variation (eg one which bounces up and down as you scroll through it) is trending positively or negatively in click-rate and conversions as the tests go on. As these results are most often inconclusive, I can only imagine they distract the people who are so curious about them. \n",
    "\n",
    "Anyway, I will now go about setting up some example simulations of A/B tests between identical tests."
   ]
  },
  {
   "cell_type": "code",
   "execution_count": 2,
   "metadata": {
    "collapsed": true
   },
   "outputs": [],
   "source": [
    "import numpy as np"
   ]
  },
  {
   "cell_type": "code",
   "execution_count": 36,
   "metadata": {
    "collapsed": false
   },
   "outputs": [],
   "source": [
    "A = np.random.binomial(10000,.2)\n",
    "B = np.random.binomial(10000,.2)"
   ]
  },
  {
   "cell_type": "code",
   "execution_count": 37,
   "metadata": {
    "collapsed": false
   },
   "outputs": [
    {
     "data": {
      "text/plain": [
       "2006"
      ]
     },
     "execution_count": 37,
     "metadata": {},
     "output_type": "execute_result"
    }
   ],
   "source": [
    "A"
   ]
  },
  {
   "cell_type": "code",
   "execution_count": 38,
   "metadata": {
    "collapsed": false
   },
   "outputs": [
    {
     "data": {
      "text/plain": [
       "2034"
      ]
     },
     "execution_count": 38,
     "metadata": {},
     "output_type": "execute_result"
    }
   ],
   "source": [
    "B"
   ]
  },
  {
   "cell_type": "code",
   "execution_count": 39,
   "metadata": {
    "collapsed": false
   },
   "outputs": [
    {
     "data": {
      "text/plain": [
       "0.013958125623130608"
      ]
     },
     "execution_count": 39,
     "metadata": {},
     "output_type": "execute_result"
    }
   ],
   "source": [
    "(B-A)/float(A)"
   ]
  },
  {
   "cell_type": "code",
   "execution_count": 23,
   "metadata": {
    "collapsed": true
   },
   "outputs": [],
   "source": [
    "# hm, so far the results are different from what I expected\n",
    "# these relative percentage changes are much smaller than most of the ones we see in the \n",
    "# biweekly updates at Yieldmo"
   ]
  },
  {
   "cell_type": "code",
   "execution_count": null,
   "metadata": {
    "collapsed": true
   },
   "outputs": [],
   "source": []
  }
 ],
 "metadata": {
  "kernelspec": {
   "display_name": "Python 2",
   "language": "python",
   "name": "python2"
  },
  "language_info": {
   "codemirror_mode": {
    "name": "ipython",
    "version": 2
   },
   "file_extension": ".py",
   "mimetype": "text/x-python",
   "name": "python",
   "nbconvert_exporter": "python",
   "pygments_lexer": "ipython2",
   "version": "2.7.11"
  }
 },
 "nbformat": 4,
 "nbformat_minor": 0
}
