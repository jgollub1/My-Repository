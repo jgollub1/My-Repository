{
 "cells": [
  {
   "cell_type": "code",
   "execution_count": 2,
   "metadata": {
    "collapsed": true
   },
   "outputs": [],
   "source": [
    "import numpy as np"
   ]
  },
  {
   "cell_type": "markdown",
   "metadata": {
    "collapsed": false
   },
   "source": [
    "The game is as follows:\n",
    "\n",
    "--You have a deck of four cards; two are red and two are black\n",
    "--You start out with $100\n",
    "--Each turn, a card is removed from the deck (there is no replacement so there are four turns)\n",
    "--At the start of each turn you are given the chance to bet as much of your money as you like on the color of the card; the returns on all bets are 1:1\n",
    "--What is the optimal strategy for this game? If there are multiple strategies with this same expected value, which has the least variance?"
   ]
  },
  {
   "cell_type": "code",
   "execution_count": 3,
   "metadata": {
    "collapsed": false
   },
   "outputs": [
    {
     "data": {
      "text/plain": [
       "[['B', 'B', 'R', 'R'],\n",
       " ['B', 'R', 'B', 'R'],\n",
       " ['B', 'R', 'R', 'B'],\n",
       " ['R', 'B', 'B', 'R'],\n",
       " ['R', 'B', 'R', 'B'],\n",
       " ['R', 'R', 'B', 'B']]"
      ]
     },
     "execution_count": 3,
     "metadata": {},
     "output_type": "execute_result"
    }
   ],
   "source": [
    "# define all the possible ways the deck can be shuffled (all have equal probability, as 4\n",
    "# choose 2 equals 6)\n",
    "\n",
    "one=['B','B','R','R']\n",
    "two=['B','R','B','R']\n",
    "three=['B','R','R','B']\n",
    "four=['R','B','B','R']\n",
    "five=['R','B','R','B']\n",
    "six=['R','R','B','B']\n",
    "\n",
    "decks = [one,two,three,four,five,six]\n",
    "decks"
   ]
  },
  {
   "cell_type": "code",
   "execution_count": 4,
   "metadata": {
    "collapsed": false
   },
   "outputs": [
    {
     "name": "stdout",
     "output_type": "stream",
     "text": [
      "0\n"
     ]
    }
   ],
   "source": [
    "print np.random.randint(0,6)"
   ]
  },
  {
   "cell_type": "markdown",
   "metadata": {},
   "source": [
    "There is a very clear way to define a strategy for this game. The first round, we have an even 50% chance of guessing correctly because there are two red and two black cards. To minimize variance, let's keep our first round wager to $0 since any amount doesn't increase our expected value. For the second round, it seems like we would want to bet, since we have a 2/3 chance of winning. If the first card is black, we guess red since two of the three remaining cards are red and vice versa if the first card is red. So, it seems like it would be advantageous to bet some amount of money during that round. How much is unclear (that's what we'll find out). The rest of the game is pretty straightforward. If two cards of the same color are drawn on the first two turns, we bet all of our money on each of the last two turns, getting 100 percent returns since we know the colors of the last two cards. If we draw one card of each color in the first two turns, we refrain from making a wager on the third turn, since we have another 50-50 coin flip and want to reduce variance, and bet everything on the final coin flip. Sound complicated? Let's try it out."
   ]
  },
  {
   "cell_type": "code",
   "execution_count": 91,
   "metadata": {
    "collapsed": true
   },
   "outputs": [],
   "source": [
    "# this function's only parameter is the amount we bet in the second round, since we want\n",
    "# to figure out how much is optimal (would it be best to just go ahead and bet everything\n",
    "# on the second round since we have 2/3 chance?)\n",
    "\n",
    "def optimal_game(amount):\n",
    "    # our optimal strategy takes in how much money to bet on the second\n",
    "    init = 100\n",
    "    # we start with one of these six possible card arrangements\n",
    "    deck = decks[np.random.randint(0,6)]\n",
    "    \n",
    "    # now we bet on the second card since we have a 2/3 chance of winning\n",
    "    if deck[0] != deck[1]:\n",
    "        init += amount\n",
    "    else:\n",
    "        init -= amount\n",
    "    \n",
    "    # now we bet on the third round if the first two cards were identical\n",
    "    if deck[0] == deck[1]:\n",
    "        init = 2*init\n",
    "    \n",
    "    # now we always bet all our money on the fourth round and get everything back\n",
    "    init = 2*init\n",
    "    return init\n",
    "        \n",
    "        "
   ]
  },
  {
   "cell_type": "code",
   "execution_count": 95,
   "metadata": {
    "collapsed": false
   },
   "outputs": [
    {
     "data": {
      "text/plain": [
       "400"
      ]
     },
     "execution_count": 95,
     "metadata": {},
     "output_type": "execute_result"
    }
   ],
   "source": [
    "optimal_game(100)"
   ]
  },
  {
   "cell_type": "code",
   "execution_count": 132,
   "metadata": {
    "collapsed": true
   },
   "outputs": [],
   "source": [
    "# here's a function to run n simulations of the game with any tested amount\n",
    "\n",
    "def n_sims(func,amount,n):\n",
    "    results = []\n",
    "    for i in range(0,n):\n",
    "        results.append(func(amount))\n",
    "    return np.mean(results)"
   ]
  },
  {
   "cell_type": "code",
   "execution_count": 133,
   "metadata": {
    "collapsed": true
   },
   "outputs": [],
   "source": [
    "# lets try our game with n=100000 with 2nd round wagers with various increments"
   ]
  },
  {
   "cell_type": "code",
   "execution_count": 134,
   "metadata": {
    "collapsed": false
   },
   "outputs": [
    {
     "data": {
      "text/plain": [
       "266.66666690599999"
      ]
     },
     "execution_count": 134,
     "metadata": {},
     "output_type": "execute_result"
    }
   ],
   "source": [
    "n_sims(optimal_game,33.3333,100000)"
   ]
  },
  {
   "cell_type": "code",
   "execution_count": 122,
   "metadata": {
    "collapsed": false
   },
   "outputs": [
    {
     "data": {
      "text/plain": [
       "266.63679999999999"
      ]
     },
     "execution_count": 122,
     "metadata": {},
     "output_type": "execute_result"
    }
   ],
   "source": [
    "n_sims(optimal_game,10,100000)"
   ]
  },
  {
   "cell_type": "code",
   "execution_count": 116,
   "metadata": {
    "collapsed": false
   },
   "outputs": [
    {
     "data": {
      "text/plain": [
       "266.46559999999999"
      ]
     },
     "execution_count": 116,
     "metadata": {},
     "output_type": "execute_result"
    }
   ],
   "source": [
    "n_sims(optimal_game,20,100000)"
   ]
  },
  {
   "cell_type": "code",
   "execution_count": 117,
   "metadata": {
    "collapsed": false
   },
   "outputs": [
    {
     "data": {
      "text/plain": [
       "266.66680000000002"
      ]
     },
     "execution_count": 117,
     "metadata": {},
     "output_type": "execute_result"
    }
   ],
   "source": [
    "n_sims(optimal_game,30,100000)"
   ]
  },
  {
   "cell_type": "code",
   "execution_count": 118,
   "metadata": {
    "collapsed": false
   },
   "outputs": [
    {
     "data": {
      "text/plain": [
       "266.66199999999998"
      ]
     },
     "execution_count": 118,
     "metadata": {},
     "output_type": "execute_result"
    }
   ],
   "source": [
    "n_sims(optimal_game,50,100000)"
   ]
  },
  {
   "cell_type": "code",
   "execution_count": 119,
   "metadata": {
    "collapsed": false
   },
   "outputs": [
    {
     "data": {
      "text/plain": [
       "266.42099999999999"
      ]
     },
     "execution_count": 119,
     "metadata": {},
     "output_type": "execute_result"
    }
   ],
   "source": [
    "n_sims(optimal_game,70,100000)"
   ]
  },
  {
   "cell_type": "code",
   "execution_count": 120,
   "metadata": {
    "collapsed": false
   },
   "outputs": [
    {
     "data": {
      "text/plain": [
       "266.77659999999997"
      ]
     },
     "execution_count": 120,
     "metadata": {},
     "output_type": "execute_result"
    }
   ],
   "source": [
    "n_sims(optimal_game,90,100000)"
   ]
  },
  {
   "cell_type": "code",
   "execution_count": 115,
   "metadata": {
    "collapsed": false
   },
   "outputs": [
    {
     "data": {
      "text/plain": [
       "266.74400000000003"
      ]
     },
     "execution_count": 115,
     "metadata": {},
     "output_type": "execute_result"
    }
   ],
   "source": [
    "n_sims(optimal_game,100,100000)"
   ]
  },
  {
   "cell_type": "markdown",
   "metadata": {},
   "source": [
    "It seems like all strategies, regardless of what we bet in the second round, approach an expected value of 266.67."
   ]
  },
  {
   "cell_type": "markdown",
   "metadata": {},
   "source": [
    "To more clearly illustrate why the two are equivalent, we can condense the original function as follows:"
   ]
  },
  {
   "cell_type": "code",
   "execution_count": 37,
   "metadata": {
    "collapsed": true
   },
   "outputs": [],
   "source": [
    "def smaller_optimal_game(amount):\n",
    "    # our optimal strategy takes in how much money to bet on the second\n",
    "    init = 100\n",
    "    # we start with one of these six possible card arrangements\n",
    "    deck = decks[np.random.randint(0,6)]\n",
    "    \n",
    "    # now we bet on the second card since we have a 2/3 chance of winning\n",
    "    if deck[0] != deck[1]:\n",
    "        init += amount\n",
    "    else:\n",
    "        init -= amount\n",
    "        # if we lose the second round bet, we consequently can double our remaining value\n",
    "        # in the third round\n",
    "        init *= 2\n",
    "    init *= 2\n",
    "    return init"
   ]
  },
  {
   "cell_type": "code",
   "execution_count": 90,
   "metadata": {
    "collapsed": false
   },
   "outputs": [
    {
     "data": {
      "text/plain": [
       "400"
      ]
     },
     "execution_count": 90,
     "metadata": {},
     "output_type": "execute_result"
    }
   ],
   "source": [
    "smaller_optimal_game(100)"
   ]
  },
  {
   "cell_type": "markdown",
   "metadata": {
    "collapsed": true
   },
   "source": [
    "Mathematically, we conclude:\n",
    "\n",
    "E(X) = (2/3)(100 + amount)(2) + (1/3)(100 - amount)(4)\n",
    "E(X) = 133.33 + 133.33 + (4/3)(amount) - (4/3)(amount)\n",
    "E(X) = 266.67\n",
    "\n",
    "The value of \"amount\" actually doesn't matter at all."
   ]
  },
  {
   "cell_type": "markdown",
   "metadata": {
    "collapsed": true
   },
   "source": [
    "How to minimize variance? Well, it turns out you just have to poke around with numbers until you find one that works. It turns out that betting 33.333 each time will yield a variance of 0. If you win the bet, your money goes to 133.33 and you don't bet on the third round. If you lose the bet, your money falls to 66.67, but you double your money back to 133.33 after winning the third round. Either way, this puts you in the same position for the fourth round, ultimately netting 266.67 each time. Congrats"
   ]
  },
  {
   "cell_type": "code",
   "execution_count": null,
   "metadata": {
    "collapsed": true
   },
   "outputs": [],
   "source": []
  }
 ],
 "metadata": {
  "kernelspec": {
   "display_name": "Python 2",
   "language": "python",
   "name": "python2"
  },
  "language_info": {
   "codemirror_mode": {
    "name": "ipython",
    "version": 2
   },
   "file_extension": ".py",
   "mimetype": "text/x-python",
   "name": "python",
   "nbconvert_exporter": "python",
   "pygments_lexer": "ipython2",
   "version": "2.7.10"
  }
 },
 "nbformat": 4,
 "nbformat_minor": 0
}
