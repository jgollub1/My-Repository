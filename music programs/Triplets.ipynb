{
 "cells": [
  {
   "cell_type": "markdown",
   "metadata": {},
   "source": [
    "Now, I attempt a melody generator over the form of Herbie Hancock's \"Maiden Voyage.\" The A section is just \"A-7, C-7.\" I'll start this up by improvising over A minor pentatonic in triplets."
   ]
  },
  {
   "cell_type": "code",
   "execution_count": 66,
   "metadata": {
    "collapsed": true
   },
   "outputs": [],
   "source": [
    "# Ways to improvise over pentatonic:\n",
    "\n",
    "# random walk (50% up or down)\n",
    "# ascending/descending two-notes\n",
    "# ascending/descending three-notes"
   ]
  },
  {
   "cell_type": "code",
   "execution_count": null,
   "metadata": {
    "collapsed": false
   },
   "outputs": [],
   "source": []
  },
  {
   "cell_type": "markdown",
   "metadata": {},
   "source": [
    "Let's map each note of the guitar to one number. Mapping notes to their respective MIDI numbers, let's start with low E (E2, 82.41Hz) as '28' and go all the way to a high C on the first string (C6, 1047Hz) as '72'."
   ]
  },
  {
   "cell_type": "code",
   "execution_count": 2,
   "metadata": {
    "collapsed": false
   },
   "outputs": [],
   "source": [
    "# our set of all possible notes\n",
    "guitar_notes = range(28,73)"
   ]
  },
  {
   "cell_type": "code",
   "execution_count": 3,
   "metadata": {
    "collapsed": false
   },
   "outputs": [
    {
     "name": "stdout",
     "output_type": "stream",
     "text": [
      "[28, 31, 33, 36, 38, 40, 43, 45, 48, 50, 52, 55, 57, 60, 62, 64, 67, 69, 72, 74] [29, 31, 34, 36, 39, 41, 43, 46, 48, 51, 53, 55, 58, 60, 63, 65, 67, 70, 72, 75]\n"
     ]
    }
   ],
   "source": [
    "# now make two pitch sets for corresponding pentatonic scales\n",
    "A_min = [28,31,33,36,38]\n",
    "C_min = [29,31,34,36,39]\n",
    "\n",
    "# increase range of pitches to several octaves; up to a super high D on guitar\n",
    "for i in range(1,4):\n",
    "    for k in range(0,5):\n",
    "        A_min.append(A_min[k] + i*12)\n",
    "        C_min.append(C_min[k] + i*12)\n",
    "\n",
    "\n",
    "print A_min,C_min"
   ]
  },
  {
   "cell_type": "code",
   "execution_count": 8,
   "metadata": {
    "collapsed": true
   },
   "outputs": [],
   "source": [
    "# note to self:\n",
    "# difference between accessing an attribute, and calling a function\n",
    "# hey.you vs hey.you()"
   ]
  },
  {
   "cell_type": "code",
   "execution_count": 9,
   "metadata": {
    "collapsed": true
   },
   "outputs": [],
   "source": [
    "# Now, let's try to write our function"
   ]
  },
  {
   "cell_type": "code",
   "execution_count": 72,
   "metadata": {
    "collapsed": true
   },
   "outputs": [],
   "source": [
    "# module for random_walk through pitch_set\n",
    "def random_walk(melody,length,index,pitch_set):\n",
    "    for i in range(0,length):\n",
    "        flip = np.random.uniform()\n",
    "        # first check to see if we're at the absolute range of our pitch set\n",
    "        if index == 0:\n",
    "            index += 1\n",
    "            melody.append(pitch_set[index])\n",
    "            continue\n",
    "        if index == (len(pitch_set)-1):\n",
    "            index -= 1\n",
    "            melody.append(pitch_set[index])\n",
    "            continue\n",
    "        \n",
    "        # otherwise, move up or down the scale with a coin flip\n",
    "        if flip > .5:\n",
    "            index += 1\n",
    "        else:\n",
    "            index -= 1\n",
    "        melody.append(pitch_set[index])\n",
    "    # I want it to return the melody with added on notes and the index so we can bookmark our place\n",
    "    return melody, index"
   ]
  },
  {
   "cell_type": "code",
   "execution_count": null,
   "metadata": {
    "collapsed": true
   },
   "outputs": [],
   "source": [
    "# module for two_note pattern down\n",
    "def two_notes_down(melody,length,index,pitch_set):\n",
    "    for i in range(0,length):\n",
    "        while i > 1:\n",
    "            i -= 2\n",
    "        if i == 0:\n",
    "            index += 1\n",
    "        if i == 1:\n",
    "            index -= 2\n",
    "        \n",
    "        # have to set up a filter if we get to lower end of instrument"
   ]
  },
  {
   "cell_type": "code",
   "execution_count": 143,
   "metadata": {
    "collapsed": true
   },
   "outputs": [],
   "source": [
    "# module to change key to nearest notes\n",
    "def change_key_nn(melody,index,pitch_set1,pitch_set2):\n",
    "    # if we're on a common note between sets, just return a step of random walk\n",
    "    if pitch_set1[index] == pitch_set2[index]:\n",
    "        melody, index = random_walk(melody,1,index,pitch_set1)\n",
    "        return melody, index\n",
    "    \n",
    "    flip = np.random.uniform()\n",
    "    # if index in first pitch set is higher and we win flip, we move up; otherwise, we move down in pitch and\n",
    "    # index still says the same; also, vice versa\n",
    "    if pitch_set1[index] > pitch_set2[index] and flip >.5:\n",
    "        index +=1\n",
    "    if pitch_set1[index] < pitch_set2[index] and flip <.5:\n",
    "        index -=1\n",
    "        \n",
    "    #sloppy fix to if we go out of bounds\n",
    "    if index < 0:\n",
    "        index = 0\n",
    "    if index >= len(A_min):\n",
    "        index = len(A_min) - 1\n",
    "    \n",
    "    melody.append(pitch_set2[index])\n",
    "    return melody, index\n",
    "    "
   ]
  },
  {
   "cell_type": "code",
   "execution_count": null,
   "metadata": {
    "collapsed": true
   },
   "outputs": [],
   "source": []
  },
  {
   "cell_type": "code",
   "execution_count": null,
   "metadata": {
    "collapsed": true
   },
   "outputs": [],
   "source": []
  },
  {
   "cell_type": "code",
   "execution_count": 160,
   "metadata": {
    "collapsed": false
   },
   "outputs": [
    {
     "name": "stdout",
     "output_type": "stream",
     "text": [
      "9\n"
     ]
    }
   ],
   "source": [
    "#global index\n",
    "\n",
    "import numpy as np\n",
    "def melody_writer():\n",
    "    melody = []\n",
    "    start = np.random.uniform()\n",
    "    # we'll randomly start at indices 5,6,7\n",
    "    if start < float(1)/3:\n",
    "        index = 5\n",
    "    elif start < float(2)/3:\n",
    "        index = 6\n",
    "    else:\n",
    "        index = 7\n",
    "    \n",
    "    melody.append(A_min[index])\n",
    "    \n",
    "    melody, index = random_walk(melody,11,index,A_min)\n",
    "    melody, index = random_walk(melody,12,index,A_min)\n",
    "    melody, index = change_key_nn(melody,index,A_min,C_min)\n",
    "    melody, index = random_walk(melody,20,index,C_min)\n",
    "\n",
    "\n",
    "    \n",
    "    '''\n",
    "    for i in range(0,47):\n",
    "        flip = np.random.uniform()\n",
    "        # first check to see if we're at the absolute range of our pitch set\n",
    "        if index == 0:\n",
    "            index += 1\n",
    "            melody.append(A_min[index])\n",
    "            continue\n",
    "        if index == (len(A_min)-1):\n",
    "            index -= 1\n",
    "            melody.append(A_min[index])\n",
    "            continue\n",
    "        \n",
    "        # otherwise, move up or down the scale with a coin flip\n",
    "        if flip > .5:\n",
    "            index += 1\n",
    "        else:\n",
    "            index -= 1\n",
    "        melody.append(A_min[index])\n",
    "    \n",
    "    '''\n",
    "    print index\n",
    "    return melody\n",
    "\n",
    "melody = melody_writer()"
   ]
  },
  {
   "cell_type": "code",
   "execution_count": 161,
   "metadata": {
    "collapsed": false
   },
   "outputs": [
    {
     "name": "stdout",
     "output_type": "stream",
     "text": [
      "48\n"
     ]
    }
   ],
   "source": [
    "print index"
   ]
  },
  {
   "cell_type": "code",
   "execution_count": 162,
   "metadata": {
    "collapsed": false
   },
   "outputs": [
    {
     "name": "stdout",
     "output_type": "stream",
     "text": [
      "[43, 40, 38, 36, 33, 36, 33, 31, 28, 31, 33, 36, 38, 36, 38, 40, 43, 45, 43, 45, 48, 45, 43, 40, 41, 43, 41, 39, 36, 39, 36, 39, 41, 39, 41, 43, 46, 48, 51, 53, 51, 53, 51, 48, 51]\n",
      "\n",
      "45\n"
     ]
    }
   ],
   "source": [
    "print melody\n",
    "print '\\n',len(melody)"
   ]
  },
  {
   "cell_type": "code",
   "execution_count": 163,
   "metadata": {
    "collapsed": false
   },
   "outputs": [],
   "source": [
    "from midiutil.MidiFile import MIDIFile\n",
    "\n",
    "# create your MIDI object\n",
    "mf = MIDIFile(1)     # only 1 track\n",
    "track = 0   # the only track\n",
    "\n",
    "time = 0    # start at the beginning\n",
    "mf.addTrackName(track, time, \"Sample Track\")\n",
    "mf.addTempo(track, time, 120)\n",
    "\n",
    "# add some notes\n",
    "channel = 0\n",
    "#volume = 100\n",
    "\n",
    "beats = []\n",
    "for i in range(0,48):\n",
    "    beats.append(.3333333333*i)\n",
    "index = 0\n",
    "\n",
    "for note in melody:\n",
    "    mod = index\n",
    "    while mod >=3:\n",
    "        mod -= 3\n",
    "    if mod == 0:\n",
    "        volume = 150\n",
    "    else:\n",
    "        volume = 90\n",
    "    \n",
    "    pitch = note          \n",
    "    time = beats[index]      # start on beat 0\n",
    "    duration = 1         # 1 beat long\n",
    "    mf.addNote(track, channel, pitch, time, duration, volume)\n",
    "    index += 1\n",
    "\n",
    "with open(\"triplet.mid\", 'wb') as outf:\n",
    "    mf.writeFile(outf)"
   ]
  },
  {
   "cell_type": "code",
   "execution_count": null,
   "metadata": {
    "collapsed": true
   },
   "outputs": [],
   "source": []
  },
  {
   "cell_type": "code",
   "execution_count": 67,
   "metadata": {
    "collapsed": false
   },
   "outputs": [
    {
     "data": {
      "text/plain": [
       "\"\\n    # now we move on to the remaining three triads\\n    # find the nearest two notes\\n    remaining_sets = [A,Gb,Eb]\\n    for key in remaining_sets:\\n        triad = list(key)\\n        # I find the note closest to our previous note\\n        # remove the current note so we always move to a different note\\n        # when we change keys\\n        if melody[-1] in triad:\\n            triad.remove(melody[-1])\\n        closest = min(triad, key=lambda x:abs(x-melody[-1]))\\n        #print triad\\n        #print closest\\n        melody.append(closest)\\n        \\n        for i in range(0,2):\\n            index = key.index(melody[-1])\\n            flip = np.random.uniform()\\n            if index == 0:\\n                index += 1\\n            if index == len(key) - 1:\\n                index -= 1\\n            if flip > .5:\\n                index += 1\\n            else:\\n                index -= 1\\n            melody.append(key[index])\\n    \\n    melody_notes = []\\n    # now we convert the numbers into notes with octave numbers for display\\n    notes = ['C','C#','D','Eb','E','F','F#','G','G#','A','Bb','B']\\n    for note in melody:\\n        octave = 0\\n        while note >= 12:\\n            note -= 12\\n            octave += 1\\n        melody_notes.append(str(notes[note]) + str(octave))\\n    print melody_notes\\n    return melody\\n\""
      ]
     },
     "execution_count": 67,
     "metadata": {},
     "output_type": "execute_result"
    }
   ],
   "source": [
    "'''\n",
    "    # now we move on to the remaining three triads\n",
    "    # find the nearest two notes\n",
    "    remaining_sets = [A,Gb,Eb]\n",
    "    for key in remaining_sets:\n",
    "        triad = list(key)\n",
    "        # I find the note closest to our previous note\n",
    "        # remove the current note so we always move to a different note\n",
    "        # when we change keys\n",
    "        if melody[-1] in triad:\n",
    "            triad.remove(melody[-1])\n",
    "        closest = min(triad, key=lambda x:abs(x-melody[-1]))\n",
    "        #print triad\n",
    "        #print closest\n",
    "        melody.append(closest)\n",
    "        \n",
    "        for i in range(0,2):\n",
    "            index = key.index(melody[-1])\n",
    "            flip = np.random.uniform()\n",
    "            if index == 0:\n",
    "                index += 1\n",
    "            if index == len(key) - 1:\n",
    "                index -= 1\n",
    "            if flip > .5:\n",
    "                index += 1\n",
    "            else:\n",
    "                index -= 1\n",
    "            melody.append(key[index])\n",
    "    \n",
    "    melody_notes = []\n",
    "    # now we convert the numbers into notes with octave numbers for display\n",
    "    notes = ['C','C#','D','Eb','E','F','F#','G','G#','A','Bb','B']\n",
    "    for note in melody:\n",
    "        octave = 0\n",
    "        while note >= 12:\n",
    "            note -= 12\n",
    "            octave += 1\n",
    "        melody_notes.append(str(notes[note]) + str(octave))\n",
    "    print melody_notes\n",
    "    return melody\n",
    "'''"
   ]
  },
  {
   "cell_type": "code",
   "execution_count": null,
   "metadata": {
    "collapsed": true
   },
   "outputs": [],
   "source": []
  },
  {
   "cell_type": "code",
   "execution_count": null,
   "metadata": {
    "collapsed": true
   },
   "outputs": [],
   "source": []
  },
  {
   "cell_type": "markdown",
   "metadata": {},
   "source": [
    ""
   ]
  },
  {
   "cell_type": "code",
   "execution_count": 103,
   "metadata": {
    "collapsed": false
   },
   "outputs": [],
   "source": [
    "# NOTE TO SELF: change the function so it doesn't \n",
    "# ALWAYS grab the nearest note when switching chords"
   ]
  },
  {
   "cell_type": "code",
   "execution_count": 104,
   "metadata": {
    "collapsed": true
   },
   "outputs": [],
   "source": [
    "# Wow, I like this\n",
    "sample_melody = [48, 52, 55, 57, 52, 49, 46, 49, 54, 55, 51, 55]"
   ]
  },
  {
   "cell_type": "code",
   "execution_count": null,
   "metadata": {
    "collapsed": true
   },
   "outputs": [],
   "source": []
  }
 ],
 "metadata": {
  "kernelspec": {
   "display_name": "Python 2",
   "language": "python",
   "name": "python2"
  },
  "language_info": {
   "codemirror_mode": {
    "name": "ipython",
    "version": 2
   },
   "file_extension": ".py",
   "mimetype": "text/x-python",
   "name": "python",
   "nbconvert_exporter": "python",
   "pygments_lexer": "ipython2",
   "version": "2.7.11"
  }
 },
 "nbformat": 4,
 "nbformat_minor": 0
}
