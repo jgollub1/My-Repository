{
 "cells": [
  {
   "cell_type": "markdown",
   "metadata": {},
   "source": [
    "I am going to attempt to produce a melody generator for the turnaround of Joe Henderson's \"Isotope.\" The changes to the last two bars are \"C7, A7, Gb7, Eb7.\" To start, I'll just do three note shapes made from the major triads of each chord. I'll write a function to choose notes in near proximity so there aren't big jumps. There will be an element of randomness, however, pertaining mainly to decisions of whether to move up or down. "
   ]
  },
  {
   "cell_type": "code",
   "execution_count": null,
   "metadata": {
    "collapsed": false
   },
   "outputs": [],
   "source": []
  },
  {
   "cell_type": "markdown",
   "metadata": {},
   "source": [
    "Let's map each note of the guitar to one number. Mapping notes to their respective MIDI numbers, let's start with low E (E2, 82.41Hz) as '28' and go all the way to a high C on the first string (C6, 1047Hz) as '72'."
   ]
  },
  {
   "cell_type": "code",
   "execution_count": 2,
   "metadata": {
    "collapsed": false
   },
   "outputs": [],
   "source": [
    "# our set of all possible notes\n",
    "guitar_notes = range(28,73)"
   ]
  },
  {
   "cell_type": "code",
   "execution_count": 8,
   "metadata": {
    "collapsed": false
   },
   "outputs": [
    {
     "name": "stdout",
     "output_type": "stream",
     "text": [
      "[28, 31, 36, 40, 43, 48, 52, 55, 60, 64, 67, 72] [28, 33, 37, 40, 45, 49, 52, 57, 61, 64, 69] [30, 34, 37, 42, 46, 49, 54, 58, 61, 66, 42] [31, 34, 39, 43, 46, 51, 55, 58, 63, 67, 70]\n"
     ]
    }
   ],
   "source": [
    "# now make sets of notes pertaining to each triad/chord\n",
    "C = [28,31,36,40,43,48,52,55,60,64,67,72]\n",
    "A = []\n",
    "Gb = []\n",
    "Eb = []\n",
    "\n",
    "# since the other three sets of notes are separated by minor thirds, or multiples of three chromatic steps,\n",
    "# I can produce the other three sets of notes by shifting my first set accordingly\n",
    "for i in range(0,len(C)):\n",
    "    A.append(C[i] - 3)\n",
    "    Gb.append(C[i] - 6)\n",
    "    Eb.append(C[i] + 3)\n",
    "# now we just adjust the sets so they fit our chosen range of the guitar\n",
    "A = A[1:]\n",
    "Gb = Gb[2:]\n",
    "Gb.append(42)\n",
    "Eb = Eb[:-1]\n",
    "\n",
    "print C,A,Gb,Eb"
   ]
  },
  {
   "cell_type": "code",
   "execution_count": 8,
   "metadata": {
    "collapsed": true
   },
   "outputs": [],
   "source": [
    "# note to self:\n",
    "# difference between accessing an attribute, and calling a function\n",
    "# hey.you vs hey.you()"
   ]
  },
  {
   "cell_type": "code",
   "execution_count": 9,
   "metadata": {
    "collapsed": true
   },
   "outputs": [],
   "source": [
    "# Now, let's try to write our function"
   ]
  },
  {
   "cell_type": "code",
   "execution_count": 99,
   "metadata": {
    "collapsed": false
   },
   "outputs": [
    {
     "name": "stdout",
     "output_type": "stream",
     "text": [
      "[48, 52, 55, 57, 52, 49, 46, 49, 54, 55, 51, 55]\n",
      "['C4', 'E4', 'G4', 'A4', 'E4', 'C#4', 'Bb3', 'C#4', 'F#4', 'G4', 'Eb4', 'G4']\n"
     ]
    }
   ],
   "source": [
    "import numpy as np\n",
    "\n",
    "def melody_writer():\n",
    "\n",
    "    melody = []\n",
    "    start = np.random.uniform()\n",
    "    # we'll randomly start at C4, E4, or G4, which have indices 5,6,7 of the C set respectively\n",
    "    if start < float(1)/3:\n",
    "        index = 5\n",
    "    elif start < float(2)/3:\n",
    "        index = 6\n",
    "    else:\n",
    "        index = 7\n",
    "    \n",
    "    melody.append(C[index])\n",
    "    for i in range(0,2):\n",
    "        flip = np.random.uniform()\n",
    "        if flip > .5:\n",
    "            index += 1\n",
    "        else:\n",
    "            index -= 1\n",
    "        melody.append(C[index])\n",
    "    #print melody[-1]\n",
    "    # now we move on to the remaining three triads\n",
    "    # find the nearest two notes\n",
    "    remaining_sets = [A,Gb,Eb]\n",
    "    for key in remaining_sets:\n",
    "        triad = list(key)\n",
    "        # I find the note closest to our previous note\n",
    "        # remove the current note so we always move to a different note\n",
    "        # when we change keys\n",
    "        if melody[-1] in triad:\n",
    "            triad.remove(melody[-1])\n",
    "        closest = min(triad, key=lambda x:abs(x-melody[-1]))\n",
    "        #print triad\n",
    "        #print closest\n",
    "        melody.append(closest)\n",
    "        \n",
    "        for i in range(0,2):\n",
    "            index = key.index(melody[-1])\n",
    "            flip = np.random.uniform()\n",
    "            if index == 0:\n",
    "                index += 1\n",
    "            if index == len(key) - 1:\n",
    "                index -= 1\n",
    "            if flip > .5:\n",
    "                index += 1\n",
    "            else:\n",
    "                index -= 1\n",
    "            melody.append(key[index])\n",
    "    \n",
    "    print melody\n",
    "    melody_notes = []\n",
    "    # now we convert the numbers into notes with octave numbers for display\n",
    "    notes = ['C','C#','D','Eb','E','F','F#','G','G#','A','Bb','B']\n",
    "    for note in melody:\n",
    "        octave = 0\n",
    "        while note >= 12:\n",
    "            note -= 12\n",
    "            octave += 1\n",
    "        melody_notes.append(str(notes[note]) + str(octave))\n",
    "    print melody_notes\n",
    "    return melody\n",
    "melody = melody_writer()"
   ]
  },
  {
   "cell_type": "code",
   "execution_count": 117,
   "metadata": {
    "collapsed": false
   },
   "outputs": [],
   "source": [
    "melody = [48, 52, 55, 57, 52, 49, 46, 49, 54, 55, 51, 46]"
   ]
  },
  {
   "cell_type": "code",
   "execution_count": 121,
   "metadata": {
    "collapsed": false
   },
   "outputs": [],
   "source": [
    "# create your MIDI object\n",
    "mf = MIDIFile(1)     # only 1 track\n",
    "track = 0   # the only track\n",
    "\n",
    "time = 0    # start at the beginning\n",
    "mf.addTrackName(track, time, \"Sample Track\")\n",
    "mf.addTempo(track, time, 120)\n",
    "\n",
    "# add some notes\n",
    "channel = 0\n",
    "volume = 100\n",
    "\n",
    "beats = [0,0.6,1,2,2.6,3,4,4.6,5,6,6.6,7]\n",
    "index = 0\n",
    "\n",
    "for note in melody:\n",
    "    pitch = note          \n",
    "    time = beats[index]      # start on beat 0\n",
    "    duration = 1         # 1 beat long\n",
    "    mf.addNote(track, channel, pitch, time, duration, volume)\n",
    "    index += 1\n",
    "\n",
    "with open(\"output.mid\", 'wb') as outf:\n",
    "    mf.writeFile(outf)"
   ]
  },
  {
   "cell_type": "code",
   "execution_count": null,
   "metadata": {
    "collapsed": true
   },
   "outputs": [],
   "source": []
  },
  {
   "cell_type": "code",
   "execution_count": 89,
   "metadata": {
    "collapsed": false
   },
   "outputs": [
    {
     "data": {
      "text/plain": [
       "['C4', 'G3', 'C4', 'C#4', 'A3', 'C#4', 'Bb3', 'C#4', 'F#4', 'G4', 'Eb4', 'G4']"
      ]
     },
     "execution_count": 89,
     "metadata": {},
     "output_type": "execute_result"
    }
   ],
   "source": [
    "import numpy as np\n",
    "from midiutil.MidiFile import MIDIFile\n",
    "\n",
    "def melody_midi_writer():\n",
    "\n",
    "    melody = []\n",
    "    start = np.random.uniform()\n",
    "    # we'll randomly start at C4, E4, or G4, which have indices 5,6,7 of the C set respectively\n",
    "    if start < float(1)/3:\n",
    "        index = 5\n",
    "    elif start < float(2)/3:\n",
    "        index = 6\n",
    "    else:\n",
    "        index = 7\n",
    "    \n",
    "    melody.append(C[index])\n",
    "    for i in range(0,2):\n",
    "        flip = np.random.uniform()\n",
    "        if flip > .5:\n",
    "            index += 1\n",
    "        else:\n",
    "            index -= 1\n",
    "        melody.append(C[index])\n",
    "    #print melody[-1]\n",
    "    # now we move on to the remaining three triads\n",
    "    # find the nearest two notes\n",
    "    remaining_sets = [A,Gb,Eb]\n",
    "    for key in remaining_sets:\n",
    "        triad = list(key)\n",
    "        # I find the note closest to our previous note\n",
    "        # remove the current note so we always move to a different note\n",
    "        # when we change keys\n",
    "        if melody[-1] in triad:\n",
    "            triad.remove(melody[-1])\n",
    "        closest = min(triad, key=lambda x:abs(x-melody[-1]))\n",
    "        #print triad\n",
    "        #print closest\n",
    "        melody.append(closest)\n",
    "        \n",
    "        for i in range(0,2):\n",
    "            index = key.index(melody[-1])\n",
    "            flip = np.random.uniform()\n",
    "            if index == 0:\n",
    "                index += 1\n",
    "            if index == len(key) - 1:\n",
    "                index -= 1\n",
    "            if flip > .5:\n",
    "                index += 1\n",
    "            else:\n",
    "                index -= 1\n",
    "            melody.append(key[index])\n",
    "            \n",
    "            \n",
    "    # create your MIDI object\n",
    "    mf = MIDIFile(1)     # only 1 track\n",
    "    track = 0   # the only track\n",
    "\n",
    "    time = 0    # start at the beginning\n",
    "    mf.addTrackName(track, time, \"Sample Track\")\n",
    "    mf.addTempo(track, time, 120)\n",
    "\n",
    "    # add some notes\n",
    "    channel = 0\n",
    "    volume = 100\n",
    "    \n",
    "    timer = 0\n",
    "    \n",
    "    for note in melody:\n",
    "        pitch = note          # C5 (middle C)\n",
    "        time = timer             # start on beat 0\n",
    "        duration = 1         # 1 beat long\n",
    "        mf.addNote(track, channel, pitch, time, duration, volume)\n",
    "        timer += 1\n",
    "    \n",
    "    with open(\"output.mid\", 'wb') as outf:\n",
    "        mf.writeFile(outf)    \n",
    "    \n",
    "    #print melody\n",
    "    melody_notes = []\n",
    "    # now we convert the numbers into notes with octave numbers for display\n",
    "    notes = ['C','C#','D','Eb','E','F','F#','G','G#','A','Bb','B']\n",
    "    for note in melody:\n",
    "        octave = 0\n",
    "        while note >= 12:\n",
    "            note -= 12\n",
    "            octave += 1\n",
    "        melody_notes.append(str(notes[note]) + str(octave))\n",
    "    return melody_notes\n",
    "melody_midi_writer()"
   ]
  },
  {
   "cell_type": "code",
   "execution_count": null,
   "metadata": {
    "collapsed": true
   },
   "outputs": [],
   "source": []
  },
  {
   "cell_type": "code",
   "execution_count": null,
   "metadata": {
    "collapsed": true
   },
   "outputs": [],
   "source": []
  },
  {
   "cell_type": "code",
   "execution_count": null,
   "metadata": {
    "collapsed": true
   },
   "outputs": [],
   "source": []
  },
  {
   "cell_type": "markdown",
   "metadata": {},
   "source": [
    "NOTE TO SELF: WATCH STEVE COLEMAN'S ELEMENTS OF ONES"
   ]
  },
  {
   "cell_type": "code",
   "execution_count": 103,
   "metadata": {
    "collapsed": false
   },
   "outputs": [],
   "source": [
    "# NOTE TO SELF: change the function so it doesn't \n",
    "# ALWAYS grab the nearest note when switching chords"
   ]
  },
  {
   "cell_type": "code",
   "execution_count": 104,
   "metadata": {
    "collapsed": true
   },
   "outputs": [],
   "source": [
    "# Wow, I rike dis\n",
    "sample_melody = [48, 52, 55, 57, 52, 49, 46, 49, 54, 55, 51, 55]"
   ]
  },
  {
   "cell_type": "code",
   "execution_count": null,
   "metadata": {
    "collapsed": true
   },
   "outputs": [],
   "source": []
  }
 ],
 "metadata": {
  "kernelspec": {
   "display_name": "Python 2",
   "language": "python",
   "name": "python2"
  },
  "language_info": {
   "codemirror_mode": {
    "name": "ipython",
    "version": 2
   },
   "file_extension": ".py",
   "mimetype": "text/x-python",
   "name": "python",
   "nbconvert_exporter": "python",
   "pygments_lexer": "ipython2",
   "version": "2.7.11"
  }
 },
 "nbformat": 4,
 "nbformat_minor": 0
}
